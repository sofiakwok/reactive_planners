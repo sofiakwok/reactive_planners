{
 "cells": [
  {
   "cell_type": "code",
   "execution_count": 1,
   "metadata": {},
   "outputs": [],
   "source": [
    "\"\"\"This file is a demo for using the DG whole body controller.\n",
    "\n",
    "License BSD-3-Clause\n",
    "Copyright (c) 2021, New York University and Max Planck Gesellschaft.\n",
    "\n",
    "Author: Julian Viereck\n",
    "Date:   Feb 24, 2021\n",
    "\"\"\"\n",
    "\n",
    "import numpy as np\n",
    "np.set_printoptions(suppress=True, precision=3)\n",
    "\n",
    "import pinocchio as pin\n",
    "\n",
    "import dynamic_graph as dg\n",
    "\n",
    "from robot_properties_solo.config import Solo12Config\n",
    "from dg_blmc_robots.solo.solo12_bullet import get_solo12_robot\n",
    "\n",
    "from reactive_planners.dynamic_graph.solo12_stepper import Solo12WBCStepper\n",
    "\n",
    "from dg_tools.dynamic_graph.dg_tools_entities import CreateWorldFrame"
   ]
  },
  {
   "cell_type": "code",
   "execution_count": 3,
   "metadata": {},
   "outputs": [],
   "source": [
    "###\n",
    "# Create the simulated robot\n",
    "robot = get_solo12_robot()"
   ]
  },
  {
   "cell_type": "code",
   "execution_count": 4,
   "metadata": {},
   "outputs": [],
   "source": [
    "q0 = Solo12Config.q0.copy()\n",
    "q0[0] = 0.2\n",
    "\n",
    "# Rotate the base if desired.\n",
    "des_yaw = 0.\n",
    "\n",
    "q0[3:7] = pin.Quaternion(pin.rpy.rpyToMatrix(0., 0., des_yaw)).coeffs() # \n",
    "\n",
    "robot.reset_state(q0, Solo12Config.v0)"
   ]
  },
  {
   "cell_type": "code",
   "execution_count": 5,
   "metadata": {},
   "outputs": [],
   "source": [
    "ctrl = Solo12WBCStepper('solo12_wbc_stepper', 0.2)"
   ]
  },
  {
   "cell_type": "code",
   "execution_count": 6,
   "metadata": {},
   "outputs": [],
   "source": [
    "# Zero the initial position from the vicon signal.\n",
    "base_posture_sin, base_velocity_sin = robot.base_signals()\n",
    "\n",
    "op = CreateWorldFrame('wf')\n",
    "dg.plug(base_posture_sin, op.frame_sin)\n",
    "op.update()\n",
    "op.set_which_dofs(np.array([1., 1., 0., 0., 0., 0.]))\n",
    "\n",
    "base_posture_local_sin = stack_two_vectors(\n",
    "    selec_vector(subtract_vec_vec(base_posture_sin, op.world_frame_sout), 0, 3),\n",
    "    selec_vector(base_posture_sin, 3, 7), 3, 4)"
   ]
  },
  {
   "cell_type": "code",
   "execution_count": 7,
   "metadata": {},
   "outputs": [],
   "source": [
    "ctrl.plug(robot, base_posture_local_sin, base_velocity_sin)"
   ]
  },
  {
   "cell_type": "code",
   "execution_count": 8,
   "metadata": {},
   "outputs": [],
   "source": [
    "# Set desired base rotation.\n",
    "ctrl.des_ori_pos_rpy_sin.value = np.array([0., 0., des_yaw])\n",
    "ctrl.des_com_vel_sin.value = np.array([0.0, 0.0, 0.])"
   ]
  },
  {
   "cell_type": "code",
   "execution_count": 9,
   "metadata": {},
   "outputs": [],
   "source": [
    "# Simulate for 1 seconds.\n",
    "robot.run(1000, sleep=True)"
   ]
  },
  {
   "cell_type": "code",
   "execution_count": 10,
   "metadata": {},
   "outputs": [],
   "source": [
    "# Start the stepper.\n",
    "ctrl.start()"
   ]
  },
  {
   "cell_type": "code",
   "execution_count": 12,
   "metadata": {},
   "outputs": [],
   "source": [
    "# Simulate for 4000 seconds.\n",
    "robot.run(4000, sleep=True)"
   ]
  },
  {
   "cell_type": "code",
   "execution_count": null,
   "metadata": {},
   "outputs": [],
   "source": []
  },
  {
   "cell_type": "code",
   "execution_count": null,
   "metadata": {},
   "outputs": [],
   "source": []
  }
 ],
 "metadata": {
  "kernelspec": {
   "display_name": "Python 3",
   "language": "python",
   "name": "python3"
  },
  "language_info": {
   "codemirror_mode": {
    "name": "ipython",
    "version": 3
   },
   "file_extension": ".py",
   "mimetype": "text/x-python",
   "name": "python",
   "nbconvert_exporter": "python",
   "pygments_lexer": "ipython3",
   "version": "3.6.9"
  }
 },
 "nbformat": 4,
 "nbformat_minor": 4
}
